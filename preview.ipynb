{
  "nbformat": 4,
  "nbformat_minor": 0,
  "metadata": {
    "colab": {
      "name": "preview.ipynb",
      "private_outputs": true,
      "provenance": [],
      "collapsed_sections": [],
      "authorship_tag": "ABX9TyPlN9f7V/ESvMh0TxcIXJLZ",
      "include_colab_link": true
    },
    "kernelspec": {
      "name": "python3",
      "display_name": "Python 3"
    }
  },
  "cells": [
    {
      "cell_type": "markdown",
      "metadata": {
        "id": "view-in-github",
        "colab_type": "text"
      },
      "source": [
        "<a href=\"https://colab.research.google.com/github/ktb5891/CNN-practice/blob/main/preview.ipynb\" target=\"_parent\"><img src=\"https://colab.research.google.com/assets/colab-badge.svg\" alt=\"Open In Colab\"/></a>"
      ]
    },
    {
      "cell_type": "code",
      "metadata": {
        "id": "Mskv8DeZb6Xa"
      },
      "source": [
        "import tensorflow as tf"
      ],
      "execution_count": null,
      "outputs": []
    },
    {
      "cell_type": "code",
      "metadata": {
        "id": "5Cj7vmAccVgW"
      },
      "source": [
        "(mnist_x, mnist_y), _ = tf.keras.datasets.mnist.load_data()\r\n",
        "print(mnist_x.shape, mnist_y.shape)\r\n",
        "\r\n",
        "(cifar_x, cifar_y), _ = tf.keras.datasets.cifar10.load_data()\r\n",
        "print(cifar_x.shape, cifar_y.shape)"
      ],
      "execution_count": null,
      "outputs": []
    },
    {
      "cell_type": "markdown",
      "metadata": {
        "id": "Uidlf79sdWZ7"
      },
      "source": [
        "1. 화면 출력"
      ]
    },
    {
      "cell_type": "code",
      "metadata": {
        "id": "IXVJGJLOdSnU"
      },
      "source": [
        "print(mnist_y[0:10])\r\n",
        "\r\n",
        "import matplotlib.pyplot as plt\r\n",
        "plt.imshow(mnist_x[0], cmap='gray')"
      ],
      "execution_count": null,
      "outputs": []
    },
    {
      "cell_type": "code",
      "metadata": {
        "id": "rrnAN-iGdiQ6"
      },
      "source": [
        "print(cifar_y[0:10])\r\n",
        "\r\n",
        "import matplotlib.pyplot as plt\r\n",
        "plt.imshow(cifar_x[0])"
      ],
      "execution_count": null,
      "outputs": []
    },
    {
      "cell_type": "markdown",
      "metadata": {
        "id": "E-uPo9_ld8zb"
      },
      "source": [
        "2. 차원 확인"
      ]
    },
    {
      "cell_type": "code",
      "metadata": {
        "id": "oFdGigVFeCFO"
      },
      "source": [
        ""
      ],
      "execution_count": null,
      "outputs": []
    }
  ]
}